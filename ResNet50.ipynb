{
  "cells": [
    {
      "cell_type": "markdown",
      "metadata": {
        "id": "view-in-github",
        "colab_type": "text"
      },
      "source": [
        "<a href=\"https://colab.research.google.com/github/BishalMondal/Crop-Disease-Detection/blob/main/ResNet50.ipynb\" target=\"_parent\"><img src=\"https://colab.research.google.com/assets/colab-badge.svg\" alt=\"Open In Colab\"/></a>"
      ]
    },
    {
      "cell_type": "code",
      "execution_count": 19,
      "metadata": {
        "colab": {
          "base_uri": "https://localhost:8080/"
        },
        "id": "FIN3VFn1EP9_",
        "outputId": "b9c01092-bafb-44e8-f1a1-86527f79817c"
      },
      "outputs": [
        {
          "output_type": "stream",
          "name": "stdout",
          "text": [
            "2.7.0\n"
          ]
        }
      ],
      "source": [
        "from keras.preprocessing.image import ImageDataGenerator\n",
        "import keras\n",
        "from keras.models import Sequential\n",
        "from keras.layers import Input, Dense\n",
        "from tensorflow.keras.applications import ResNet50,ResNet50V2,InceptionResNetV2\n",
        "from tensorflow.keras.applications.resnet50 import preprocess_input\n",
        "print(keras.__version__)"
      ]
    },
    {
      "cell_type": "code",
      "execution_count": 20,
      "metadata": {
        "colab": {
          "base_uri": "https://localhost:8080/"
        },
        "id": "KEItYooaAZUs",
        "outputId": "aeaa6cab-58e9-4722-d27f-f92d3e62cdfd"
      },
      "outputs": [
        {
          "output_type": "stream",
          "name": "stdout",
          "text": [
            "Drive already mounted at /content/drive; to attempt to forcibly remount, call drive.mount(\"/content/drive\", force_remount=True).\n"
          ]
        }
      ],
      "source": [
        "from google.colab import drive\n",
        "drive.mount('/content/drive')"
      ]
    },
    {
      "cell_type": "code",
      "execution_count": 21,
      "metadata": {
        "id": "Tr4dlpKnEnY4"
      },
      "outputs": [],
      "source": [
        "num_classes = 61\n",
        "\n",
        "image_resize = 224\n",
        "\n",
        "batch_size_training = 64\n",
        "batch_size_validation = 32"
      ]
    },
    {
      "cell_type": "code",
      "execution_count": 22,
      "metadata": {
        "id": "GuygPPc3FGjV"
      },
      "outputs": [],
      "source": [
        "data_generator = ImageDataGenerator(\n",
        "    preprocessing_function=preprocess_input,\n",
        ")"
      ]
    },
    {
      "cell_type": "code",
      "execution_count": 23,
      "metadata": {
        "colab": {
          "base_uri": "https://localhost:8080/"
        },
        "id": "EUSBP7LdFRE_",
        "outputId": "acc951c1-3531-4e6a-967d-d1129519ebd0"
      },
      "outputs": [
        {
          "output_type": "stream",
          "name": "stdout",
          "text": [
            "Found 31751 images belonging to 61 classes.\n"
          ]
        }
      ],
      "source": [
        "train_generator = data_generator.flow_from_directory(\n",
        "    \"/content/drive/MyDrive/training-data\",\n",
        "    target_size=(image_resize, image_resize),\n",
        "    batch_size=batch_size_training,\n",
        "    class_mode='categorical')"
      ]
    },
    {
      "cell_type": "code",
      "execution_count": 24,
      "metadata": {
        "colab": {
          "base_uri": "https://localhost:8080/"
        },
        "id": "eJuntDsSFXbq",
        "outputId": "1dc78b23-2374-444a-a8c6-d6d743107241"
      },
      "outputs": [
        {
          "output_type": "stream",
          "name": "stdout",
          "text": [
            "Found 4546 images belonging to 60 classes.\n"
          ]
        }
      ],
      "source": [
        "validation_generator = data_generator.flow_from_directory(\n",
        "    '/content/drive/MyDrive/validation-data',\n",
        "    target_size=(image_resize, image_resize),\n",
        "    batch_size=batch_size_validation,\n",
        "    class_mode='categorical')"
      ]
    },
    {
      "cell_type": "code",
      "execution_count": 25,
      "metadata": {
        "id": "Mr90ndSiLrjH"
      },
      "outputs": [],
      "source": [
        "model = Sequential()"
      ]
    },
    {
      "cell_type": "code",
      "execution_count": 26,
      "metadata": {
        "id": "b8t9wJUrLwmR"
      },
      "outputs": [],
      "source": [
        "model.add(ResNet50(\n",
        "    include_top=False,\n",
        "    pooling='avg',\n",
        "    weights='imagenet',\n",
        "    ))"
      ]
    },
    {
      "cell_type": "code",
      "execution_count": 27,
      "metadata": {
        "id": "n922KgxWL0rA"
      },
      "outputs": [],
      "source": [
        "model.add(Dense(num_classes, activation='softmax'))"
      ]
    },
    {
      "cell_type": "code",
      "execution_count": 28,
      "metadata": {
        "id": "BmHJ-cdtL6Ry"
      },
      "outputs": [],
      "source": [
        "model.layers[0].trainable = False"
      ]
    },
    {
      "cell_type": "code",
      "execution_count": 29,
      "metadata": {
        "id": "XNviqkbjL9Iq"
      },
      "outputs": [],
      "source": [
        "model.compile(optimizer='adam', loss='categorical_crossentropy', metrics=['accuracy'])"
      ]
    },
    {
      "cell_type": "code",
      "execution_count": 30,
      "metadata": {
        "id": "dJIgz0bzL-kZ"
      },
      "outputs": [],
      "source": [
        "steps_per_epoch_training = 16\n",
        "steps_per_epoch_validation = 14\n",
        "num_epochs = 10"
      ]
    },
    {
      "cell_type": "code",
      "execution_count": 49,
      "metadata": {
        "colab": {
          "base_uri": "https://localhost:8080/"
        },
        "id": "Kr_o2cJ3MCfq",
        "outputId": "ae3782b1-d797-4b4f-d7b4-6e6f072ed826"
      },
      "outputs": [
        {
          "output_type": "stream",
          "name": "stderr",
          "text": [
            "/usr/local/lib/python3.7/dist-packages/ipykernel_launcher.py:7: UserWarning: `Model.fit_generator` is deprecated and will be removed in a future version. Please use `Model.fit`, which supports generators.\n",
            "  import sys\n"
          ]
        },
        {
          "output_type": "stream",
          "name": "stdout",
          "text": [
            "Epoch 1/10\n",
            "16/16 [==============================] - 13s 785ms/step - loss: 0.2454 - accuracy: 0.9082\n",
            "Epoch 2/10\n",
            "16/16 [==============================] - 12s 764ms/step - loss: 0.2516 - accuracy: 0.8945\n",
            "Epoch 3/10\n",
            "16/16 [==============================] - 13s 800ms/step - loss: 0.2592 - accuracy: 0.8965\n",
            "Epoch 4/10\n",
            "16/16 [==============================] - 12s 769ms/step - loss: 0.2826 - accuracy: 0.8857\n",
            "Epoch 5/10\n",
            "16/16 [==============================] - 13s 782ms/step - loss: 0.2535 - accuracy: 0.8955\n",
            "Epoch 6/10\n",
            "16/16 [==============================] - 12s 726ms/step - loss: 0.2780 - accuracy: 0.8955\n",
            "Epoch 7/10\n",
            "16/16 [==============================] - 13s 826ms/step - loss: 0.2921 - accuracy: 0.8838\n",
            "Epoch 8/10\n",
            "16/16 [==============================] - 10s 593ms/step - loss: 0.2495 - accuracy: 0.8994\n",
            "Epoch 9/10\n",
            "16/16 [==============================] - 14s 864ms/step - loss: 0.2190 - accuracy: 0.9209\n",
            "Epoch 10/10\n",
            "16/16 [==============================] - 14s 838ms/step - loss: 0.2388 - accuracy: 0.9082\n"
          ]
        }
      ],
      "source": [
        "from PIL import ImageFile\n",
        "ImageFile.LOAD_TRUNCATED_IMAGES = True\n",
        "\n",
        "fit_history = model.fit_generator(\n",
        "    train_generator,\n",
        "    steps_per_epoch=16,\n",
        "    epochs=10,\n",
        "    #validation_data=validation_generator,\n",
        "    #validation_steps=14,\n",
        ")"
      ]
    },
    {
      "cell_type": "code",
      "execution_count": 1,
      "metadata": {
        "id": "19jxODrNBkeX",
        "colab": {
          "base_uri": "https://localhost:8080/",
          "height": 166
        },
        "outputId": "85036fa3-709f-49a0-aab9-564cce948d83"
      },
      "outputs": [
        {
          "output_type": "error",
          "ename": "NameError",
          "evalue": "ignored",
          "traceback": [
            "\u001b[0;31m---------------------------------------------------------------------------\u001b[0m",
            "\u001b[0;31mNameError\u001b[0m                                 Traceback (most recent call last)",
            "\u001b[0;32m<ipython-input-1-3f5b0403a48a>\u001b[0m in \u001b[0;36m<module>\u001b[0;34m()\u001b[0m\n\u001b[0;32m----> 1\u001b[0;31m \u001b[0mfit_history\u001b[0m\u001b[0;34m.\u001b[0m\u001b[0mhistory\u001b[0m\u001b[0;34m.\u001b[0m\u001b[0mget\u001b[0m\u001b[0;34m(\u001b[0m\u001b[0;34m'accuracy'\u001b[0m\u001b[0;34m)\u001b[0m\u001b[0;34m[\u001b[0m\u001b[0;34m-\u001b[0m\u001b[0;36m1\u001b[0m\u001b[0;34m]\u001b[0m\u001b[0;34m\u001b[0m\u001b[0;34m\u001b[0m\u001b[0m\n\u001b[0m",
            "\u001b[0;31mNameError\u001b[0m: name 'fit_history' is not defined"
          ]
        }
      ],
      "source": [
        "fit_history.history.get('accuracy')[-1]"
      ]
    }
  ],
  "metadata": {
    "accelerator": "GPU",
    "colab": {
      "name": "ResNet50.ipynb",
      "provenance": [],
      "include_colab_link": true
    },
    "kernelspec": {
      "display_name": "Python 3",
      "name": "python3"
    },
    "language_info": {
      "name": "python"
    }
  },
  "nbformat": 4,
  "nbformat_minor": 0
}