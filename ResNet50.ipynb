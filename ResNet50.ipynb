{
  "cells": [
    {
      "cell_type": "markdown",
      "metadata": {
        "id": "view-in-github",
        "colab_type": "text"
      },
      "source": [
        "<a href=\"https://colab.research.google.com/github/BishalMondal/Crop-Disease-Detection/blob/main/ResNet50.ipynb\" target=\"_parent\"><img src=\"https://colab.research.google.com/assets/colab-badge.svg\" alt=\"Open In Colab\"/></a>"
      ]
    },
    {
      "cell_type": "code",
      "execution_count": 2,
      "metadata": {
        "colab": {
          "base_uri": "https://localhost:8080/"
        },
        "id": "FIN3VFn1EP9_",
        "outputId": "6cafa775-2396-4a83-9eb8-a0f86946c4dd"
      },
      "outputs": [
        {
          "output_type": "stream",
          "name": "stdout",
          "text": [
            "2.7.0\n"
          ]
        }
      ],
      "source": [
        "from keras.preprocessing.image import ImageDataGenerator\n",
        "import keras\n",
        "from keras.models import Sequential\n",
        "from keras.layers import Input, Dense\n",
        "from tensorflow.keras.applications import ResNet50,ResNet50V2,InceptionResNetV2\n",
        "from tensorflow.keras.applications.resnet50 import preprocess_input\n",
        "print(keras.__version__)"
      ]
    },
    {
      "cell_type": "code",
      "execution_count": 3,
      "metadata": {
        "colab": {
          "base_uri": "https://localhost:8080/"
        },
        "id": "KEItYooaAZUs",
        "outputId": "8f0cf73b-3a3d-4a71-a22c-09a0abaf7dd2"
      },
      "outputs": [
        {
          "output_type": "stream",
          "name": "stdout",
          "text": [
            "Mounted at /content/drive\n"
          ]
        }
      ],
      "source": [
        "from google.colab import drive\n",
        "drive.mount('/content/drive')"
      ]
    },
    {
      "cell_type": "code",
      "execution_count": 4,
      "metadata": {
        "id": "Tr4dlpKnEnY4"
      },
      "outputs": [],
      "source": [
        "num_classes = 61\n",
        "\n",
        "image_resize = 224\n",
        "\n",
        "batch_size_training = 64\n",
        "batch_size_validation = 32"
      ]
    },
    {
      "cell_type": "code",
      "execution_count": 5,
      "metadata": {
        "id": "GuygPPc3FGjV"
      },
      "outputs": [],
      "source": [
        "data_generator = ImageDataGenerator(\n",
        "    preprocessing_function=preprocess_input,\n",
        ")"
      ]
    },
    {
      "cell_type": "code",
      "execution_count": 6,
      "metadata": {
        "colab": {
          "base_uri": "https://localhost:8080/"
        },
        "id": "EUSBP7LdFRE_",
        "outputId": "31050759-f0e4-4e04-89f1-49931e5803e5"
      },
      "outputs": [
        {
          "output_type": "stream",
          "name": "stdout",
          "text": [
            "Found 31751 images belonging to 61 classes.\n"
          ]
        }
      ],
      "source": [
        "train_generator = data_generator.flow_from_directory(\n",
        "    \"/content/drive/MyDrive/training-data\",\n",
        "    target_size=(image_resize, image_resize),\n",
        "    batch_size=batch_size_training,\n",
        "    class_mode='categorical')"
      ]
    },
    {
      "cell_type": "code",
      "execution_count": 7,
      "metadata": {
        "colab": {
          "base_uri": "https://localhost:8080/"
        },
        "id": "eJuntDsSFXbq",
        "outputId": "8ea5a349-b21e-4ee8-8a56-4620d8453c38"
      },
      "outputs": [
        {
          "output_type": "stream",
          "name": "stdout",
          "text": [
            "Found 4546 images belonging to 60 classes.\n"
          ]
        }
      ],
      "source": [
        "validation_generator = data_generator.flow_from_directory(\n",
        "    '/content/drive/MyDrive/validation-data',\n",
        "    target_size=(image_resize, image_resize),\n",
        "    batch_size=batch_size_validation,\n",
        "    class_mode='categorical')"
      ]
    },
    {
      "cell_type": "code",
      "execution_count": 8,
      "metadata": {
        "id": "Mr90ndSiLrjH"
      },
      "outputs": [],
      "source": [
        "model = Sequential()"
      ]
    },
    {
      "cell_type": "code",
      "execution_count": 9,
      "metadata": {
        "id": "b8t9wJUrLwmR",
        "colab": {
          "base_uri": "https://localhost:8080/"
        },
        "outputId": "dbf6cd37-3930-4090-e333-242a79b0e549"
      },
      "outputs": [
        {
          "output_type": "stream",
          "name": "stdout",
          "text": [
            "Downloading data from https://storage.googleapis.com/tensorflow/keras-applications/resnet/resnet50_weights_tf_dim_ordering_tf_kernels_notop.h5\n",
            "94773248/94765736 [==============================] - 1s 0us/step\n",
            "94781440/94765736 [==============================] - 1s 0us/step\n"
          ]
        }
      ],
      "source": [
        "model.add(ResNet50(\n",
        "    include_top=False,\n",
        "    pooling='avg',\n",
        "    weights='imagenet',\n",
        "    ))"
      ]
    },
    {
      "cell_type": "code",
      "execution_count": 10,
      "metadata": {
        "id": "n922KgxWL0rA"
      },
      "outputs": [],
      "source": [
        "model.add(Dense(num_classes, activation='softmax'))"
      ]
    },
    {
      "cell_type": "code",
      "execution_count": 11,
      "metadata": {
        "id": "BmHJ-cdtL6Ry"
      },
      "outputs": [],
      "source": [
        "model.layers[0].trainable = False"
      ]
    },
    {
      "cell_type": "code",
      "execution_count": 12,
      "metadata": {
        "id": "XNviqkbjL9Iq"
      },
      "outputs": [],
      "source": [
        "model.compile(optimizer='adam', loss='categorical_crossentropy', metrics=['accuracy'])"
      ]
    },
    {
      "cell_type": "code",
      "execution_count": 13,
      "metadata": {
        "id": "dJIgz0bzL-kZ"
      },
      "outputs": [],
      "source": [
        "steps_per_epoch_training = 16\n",
        "steps_per_epoch_validation = 14\n",
        "num_epochs = 10"
      ]
    },
    {
      "cell_type": "code",
      "execution_count": 15,
      "metadata": {
        "colab": {
          "base_uri": "https://localhost:8080/"
        },
        "id": "Kr_o2cJ3MCfq",
        "outputId": "d339d064-ac59-4269-8ad7-30c348097f70"
      },
      "outputs": [
        {
          "output_type": "stream",
          "name": "stderr",
          "text": [
            "/usr/local/lib/python3.7/dist-packages/ipykernel_launcher.py:7: UserWarning: `Model.fit_generator` is deprecated and will be removed in a future version. Please use `Model.fit`, which supports generators.\n",
            "  import sys\n"
          ]
        },
        {
          "output_type": "stream",
          "name": "stdout",
          "text": [
            "Epoch 1/10\n",
            "16/16 [==============================] - 204s 12s/step - loss: 0.6697 - accuracy: 0.7734\n",
            "Epoch 2/10\n",
            "16/16 [==============================] - 193s 11s/step - loss: 0.6230 - accuracy: 0.7852\n",
            "Epoch 3/10\n",
            "16/16 [==============================] - 193s 11s/step - loss: 0.6152 - accuracy: 0.7910\n",
            "Epoch 4/10\n",
            "16/16 [==============================] - 186s 11s/step - loss: 0.5427 - accuracy: 0.8105\n",
            "Epoch 5/10\n",
            "16/16 [==============================] - 182s 11s/step - loss: 0.5274 - accuracy: 0.8174\n",
            "Epoch 6/10\n",
            "16/16 [==============================] - 181s 11s/step - loss: 0.4844 - accuracy: 0.8369\n",
            "Epoch 7/10\n",
            "16/16 [==============================] - 181s 11s/step - loss: 0.5189 - accuracy: 0.8252\n",
            "Epoch 8/10\n",
            "16/16 [==============================] - 180s 11s/step - loss: 0.5164 - accuracy: 0.8262\n",
            "Epoch 9/10\n",
            "16/16 [==============================] - 177s 11s/step - loss: 0.4824 - accuracy: 0.8311\n",
            "Epoch 10/10\n",
            "16/16 [==============================] - 178s 10s/step - loss: 0.4613 - accuracy: 0.8389\n"
          ]
        }
      ],
      "source": [
        "from PIL import ImageFile\n",
        "ImageFile.LOAD_TRUNCATED_IMAGES = True\n",
        "\n",
        "fit_history = model.fit_generator(\n",
        "    train_generator,\n",
        "    steps_per_epoch=16,\n",
        "    epochs=10,\n",
        "    #validation_data=validation_generator,\n",
        "    #validation_steps=14,\n",
        ")"
      ]
    },
    {
      "cell_type": "code",
      "execution_count": 16,
      "metadata": {
        "id": "19jxODrNBkeX",
        "colab": {
          "base_uri": "https://localhost:8080/"
        },
        "outputId": "91fcca1b-74a3-443e-c72e-3e20da8683e7"
      },
      "outputs": [
        {
          "metadata": {
            "tags": null
          },
          "name": "stdout",
          "output_type": "stream",
          "text": [
            "Step:  0\n"
          ]
        },
        {
          "metadata": {
            "tags": null
          },
          "name": "stderr",
          "output_type": "stream",
          "text": [
            "/usr/local/lib/python3.7/dist-packages/ipykernel_launcher.py:7: UserWarning: `Model.fit_generator` is deprecated and will be removed in a future version. Please use `Model.fit`, which supports generators.\n",
            "  import sys\n"
          ]
        },
        {
          "output_type": "stream",
          "name": "stdout",
          "text": [
            "Epoch 1/10\n",
            "16/16 [==============================] - 175s 11s/step - loss: 0.5218 - accuracy: 0.8096\n",
            "Epoch 2/10\n",
            "16/16 [==============================] - 177s 11s/step - loss: 0.5135 - accuracy: 0.8193\n",
            "Epoch 3/10\n",
            "16/16 [==============================] - 179s 11s/step - loss: 0.4737 - accuracy: 0.8262\n",
            "Epoch 4/10\n",
            "16/16 [==============================] - 178s 11s/step - loss: 0.4758 - accuracy: 0.8154\n",
            "Epoch 5/10\n",
            "16/16 [==============================] - 175s 11s/step - loss: 0.4732 - accuracy: 0.8330\n",
            "Epoch 6/10\n",
            "16/16 [==============================] - 172s 10s/step - loss: 0.4232 - accuracy: 0.8311\n",
            "Epoch 7/10\n",
            "16/16 [==============================] - 177s 11s/step - loss: 0.4703 - accuracy: 0.8223\n",
            "Epoch 8/10\n",
            "16/16 [==============================] - 171s 10s/step - loss: 0.4483 - accuracy: 0.8369\n",
            "Epoch 9/10\n",
            "16/16 [==============================] - 174s 10s/step - loss: 0.4075 - accuracy: 0.8613\n",
            "Epoch 10/10\n",
            "16/16 [==============================] - 170s 10s/step - loss: 0.4028 - accuracy: 0.8447\n",
            "Step:  1\n",
            "Epoch 1/10\n",
            "16/16 [==============================] - 171s 10s/step - loss: 0.4693 - accuracy: 0.8125\n",
            "Epoch 2/10\n",
            "16/16 [==============================] - 171s 10s/step - loss: 0.4105 - accuracy: 0.8477\n",
            "Epoch 3/10\n",
            "16/16 [==============================] - 170s 10s/step - loss: 0.4651 - accuracy: 0.8281\n",
            "Epoch 4/10\n",
            "16/16 [==============================] - 170s 10s/step - loss: 0.4077 - accuracy: 0.8389\n",
            "Epoch 5/10\n",
            "16/16 [==============================] - 171s 10s/step - loss: 0.4020 - accuracy: 0.8525\n",
            "Epoch 6/10\n",
            "16/16 [==============================] - 171s 10s/step - loss: 0.4051 - accuracy: 0.8496\n",
            "Epoch 7/10\n",
            "16/16 [==============================] - 170s 10s/step - loss: 0.4092 - accuracy: 0.8330\n",
            "Epoch 8/10\n",
            "16/16 [==============================] - 172s 10s/step - loss: 0.3563 - accuracy: 0.8711\n",
            "Epoch 9/10\n",
            "16/16 [==============================] - 168s 10s/step - loss: 0.3661 - accuracy: 0.8662\n",
            "Epoch 10/10\n",
            "16/16 [==============================] - 168s 10s/step - loss: 0.3918 - accuracy: 0.8584\n",
            "Step:  2\n",
            "Epoch 1/10\n",
            "16/16 [==============================] - 171s 10s/step - loss: 0.4255 - accuracy: 0.8369\n",
            "Epoch 2/10\n",
            "16/16 [==============================] - 169s 10s/step - loss: 0.3949 - accuracy: 0.8604\n",
            "Epoch 3/10\n",
            "16/16 [==============================] - 169s 10s/step - loss: 0.4053 - accuracy: 0.8506\n",
            "Epoch 4/10\n",
            "16/16 [==============================] - 168s 10s/step - loss: 0.4047 - accuracy: 0.8506\n",
            "Epoch 5/10\n",
            "16/16 [==============================] - 169s 10s/step - loss: 0.4168 - accuracy: 0.8438\n",
            "Epoch 6/10\n",
            "16/16 [==============================] - 172s 10s/step - loss: 0.3923 - accuracy: 0.8594\n",
            "Epoch 7/10\n",
            "16/16 [==============================] - 171s 10s/step - loss: 0.3892 - accuracy: 0.8584\n",
            "Epoch 8/10\n",
            "16/16 [==============================] - 174s 11s/step - loss: 0.3500 - accuracy: 0.8662\n",
            "Epoch 9/10\n",
            "16/16 [==============================] - 170s 10s/step - loss: 0.4003 - accuracy: 0.8486\n",
            "Epoch 10/10\n",
            "16/16 [==============================] - 170s 10s/step - loss: 0.3754 - accuracy: 0.8545\n",
            "Step:  3\n",
            "Epoch 1/10\n",
            "16/16 [==============================] - 167s 10s/step - loss: 0.3750 - accuracy: 0.8691\n",
            "Epoch 2/10\n",
            "16/16 [==============================] - 171s 10s/step - loss: 0.3664 - accuracy: 0.8770\n",
            "Epoch 3/10\n",
            "16/16 [==============================] - 169s 10s/step - loss: 0.3789 - accuracy: 0.8564\n",
            "Epoch 4/10\n",
            "16/16 [==============================] - 169s 10s/step - loss: 0.3780 - accuracy: 0.8672\n",
            "Epoch 5/10\n",
            "16/16 [==============================] - 169s 10s/step - loss: 0.3710 - accuracy: 0.8594\n",
            "Epoch 6/10\n",
            "16/16 [==============================] - 170s 10s/step - loss: 0.3626 - accuracy: 0.8623\n",
            "Epoch 7/10\n",
            "16/16 [==============================] - 170s 10s/step - loss: 0.3910 - accuracy: 0.8594\n",
            "Epoch 8/10\n",
            "16/16 [==============================] - 168s 10s/step - loss: 0.3681 - accuracy: 0.8613\n",
            "Epoch 9/10\n",
            "16/16 [==============================] - 168s 10s/step - loss: 0.3650 - accuracy: 0.8555\n",
            "Epoch 10/10\n",
            "16/16 [==============================] - 170s 11s/step - loss: 0.3572 - accuracy: 0.8564\n",
            "Step:  4\n",
            "Epoch 1/10\n",
            "16/16 [==============================] - 168s 10s/step - loss: 0.3190 - accuracy: 0.8877\n",
            "Epoch 2/10\n",
            "16/16 [==============================] - 171s 10s/step - loss: 0.3319 - accuracy: 0.8867\n",
            "Epoch 3/10\n",
            "16/16 [==============================] - 169s 10s/step - loss: 0.3015 - accuracy: 0.8828\n",
            "Epoch 4/10\n",
            "16/16 [==============================] - 170s 11s/step - loss: 0.3266 - accuracy: 0.8721\n",
            "Epoch 5/10\n",
            "16/16 [==============================] - 172s 10s/step - loss: 0.3623 - accuracy: 0.8643\n",
            "Epoch 6/10\n",
            "16/16 [==============================] - 171s 11s/step - loss: 0.3578 - accuracy: 0.8633\n",
            "Epoch 7/10\n",
            "16/16 [==============================] - 169s 10s/step - loss: 0.3339 - accuracy: 0.8633\n",
            "Epoch 8/10\n",
            "16/16 [==============================] - 169s 10s/step - loss: 0.3312 - accuracy: 0.8652\n",
            "Epoch 9/10\n",
            "16/16 [==============================] - 170s 11s/step - loss: 0.2979 - accuracy: 0.8711\n",
            "Epoch 10/10\n",
            "16/16 [==============================] - 169s 10s/step - loss: 0.3512 - accuracy: 0.8721\n",
            "Step:  5\n",
            "Epoch 1/10\n",
            "16/16 [==============================] - 170s 11s/step - loss: 0.3298 - accuracy: 0.8789\n",
            "Epoch 2/10\n",
            "16/16 [==============================] - 169s 10s/step - loss: 0.3466 - accuracy: 0.8652\n",
            "Epoch 3/10\n",
            "16/16 [==============================] - 170s 10s/step - loss: 0.3597 - accuracy: 0.8633\n",
            "Epoch 4/10\n",
            "16/16 [==============================] - 169s 10s/step - loss: 0.3294 - accuracy: 0.8779\n",
            "Epoch 5/10\n",
            "16/16 [==============================] - 169s 10s/step - loss: 0.3191 - accuracy: 0.8779\n",
            "Epoch 6/10\n",
            "16/16 [==============================] - 168s 10s/step - loss: 0.3260 - accuracy: 0.8750\n",
            "Epoch 7/10\n",
            "16/16 [==============================] - 166s 10s/step - loss: 0.3162 - accuracy: 0.8809\n",
            "Epoch 8/10\n",
            "16/16 [==============================] - 167s 10s/step - loss: 0.2866 - accuracy: 0.8867\n",
            "Epoch 9/10\n",
            "16/16 [==============================] - 168s 10s/step - loss: 0.3098 - accuracy: 0.8779\n",
            "Epoch 10/10\n",
            "16/16 [==============================] - 169s 10s/step - loss: 0.2964 - accuracy: 0.8887\n",
            "Step:  6\n",
            "Epoch 1/10\n",
            "16/16 [==============================] - 166s 10s/step - loss: 0.3556 - accuracy: 0.8662\n",
            "Epoch 2/10\n",
            "16/16 [==============================] - 168s 10s/step - loss: 0.3004 - accuracy: 0.8818\n",
            "Epoch 3/10\n",
            "16/16 [==============================] - 168s 10s/step - loss: 0.3046 - accuracy: 0.8818\n",
            "Epoch 4/10\n",
            "16/16 [==============================] - 165s 10s/step - loss: 0.3014 - accuracy: 0.8867\n",
            "Epoch 5/10\n",
            "16/16 [==============================] - 166s 10s/step - loss: 0.3364 - accuracy: 0.8721\n",
            "Epoch 6/10\n",
            "16/16 [==============================] - 168s 10s/step - loss: 0.3230 - accuracy: 0.8682\n",
            "Epoch 7/10\n",
            "16/16 [==============================] - 166s 10s/step - loss: 0.2875 - accuracy: 0.8984\n",
            "Epoch 8/10\n",
            "16/16 [==============================] - 166s 10s/step - loss: 0.2982 - accuracy: 0.8789\n",
            "Epoch 9/10\n",
            "16/16 [==============================] - 167s 10s/step - loss: 0.2924 - accuracy: 0.8848\n",
            "Epoch 10/10\n",
            "16/16 [==============================] - 168s 10s/step - loss: 0.2775 - accuracy: 0.8945\n",
            "Step:  7\n",
            "Epoch 1/10\n",
            "16/16 [==============================] - 169s 10s/step - loss: 0.2968 - accuracy: 0.8975\n",
            "Epoch 2/10\n",
            "16/16 [==============================] - 170s 11s/step - loss: 0.2970 - accuracy: 0.8896\n",
            "Epoch 3/10\n",
            "16/16 [==============================] - 168s 10s/step - loss: 0.3011 - accuracy: 0.8857\n",
            "Epoch 4/10\n",
            "16/16 [==============================] - 168s 10s/step - loss: 0.3210 - accuracy: 0.8740\n",
            "Epoch 5/10\n",
            "16/16 [==============================] - 168s 10s/step - loss: 0.3006 - accuracy: 0.8848\n",
            "Epoch 6/10\n",
            "16/16 [==============================] - 169s 10s/step - loss: 0.2567 - accuracy: 0.9023\n",
            "Epoch 7/10\n",
            "16/16 [==============================] - 168s 10s/step - loss: 0.3143 - accuracy: 0.8770\n",
            "Epoch 8/10\n",
            "16/16 [==============================] - 169s 10s/step - loss: 0.3108 - accuracy: 0.8721\n",
            "Epoch 9/10\n",
            "16/16 [==============================] - 167s 10s/step - loss: 0.3162 - accuracy: 0.8828\n",
            "Epoch 10/10\n",
            "16/16 [==============================] - 168s 10s/step - loss: 0.2969 - accuracy: 0.8809\n",
            "Step:  8\n",
            "Epoch 1/10\n",
            "16/16 [==============================] - 167s 10s/step - loss: 0.2479 - accuracy: 0.9014\n",
            "Epoch 2/10\n",
            "16/16 [==============================] - 168s 10s/step - loss: 0.3009 - accuracy: 0.8896\n",
            "Epoch 3/10\n",
            "16/16 [==============================] - 166s 10s/step - loss: 0.2669 - accuracy: 0.8945\n",
            "Epoch 4/10\n",
            "16/16 [==============================] - 166s 10s/step - loss: 0.2679 - accuracy: 0.8994\n",
            "Epoch 5/10\n",
            "16/16 [==============================] - 167s 10s/step - loss: 0.2832 - accuracy: 0.8936\n",
            "Epoch 6/10\n",
            "16/16 [==============================] - 169s 10s/step - loss: 0.2955 - accuracy: 0.8828\n",
            "Epoch 7/10\n",
            "16/16 [==============================] - 166s 10s/step - loss: 0.3060 - accuracy: 0.8799\n",
            "Epoch 8/10\n",
            "16/16 [==============================] - 170s 11s/step - loss: 0.2798 - accuracy: 0.8887\n",
            "Epoch 9/10\n",
            "16/16 [==============================] - 167s 10s/step - loss: 0.3327 - accuracy: 0.8750\n",
            "Epoch 10/10\n",
            "16/16 [==============================] - 167s 10s/step - loss: 0.3038 - accuracy: 0.8789\n",
            "Step:  9\n",
            "Epoch 1/10\n",
            "16/16 [==============================] - 169s 11s/step - loss: 0.2666 - accuracy: 0.8906\n",
            "Epoch 2/10\n",
            "16/16 [==============================] - 167s 10s/step - loss: 0.2864 - accuracy: 0.8896\n",
            "Epoch 3/10\n",
            "16/16 [==============================] - 164s 10s/step - loss: 0.3066 - accuracy: 0.8857\n",
            "Epoch 4/10\n",
            "16/16 [==============================] - 165s 10s/step - loss: 0.2615 - accuracy: 0.8984\n",
            "Epoch 5/10\n",
            "16/16 [==============================] - 167s 10s/step - loss: 0.2611 - accuracy: 0.9023\n",
            "Epoch 6/10\n",
            "16/16 [==============================] - 167s 10s/step - loss: 0.2628 - accuracy: 0.9014\n",
            "Epoch 7/10\n",
            "16/16 [==============================] - 168s 10s/step - loss: 0.3027 - accuracy: 0.8818\n",
            "Epoch 8/10\n",
            "16/16 [==============================] - 169s 11s/step - loss: 0.3140 - accuracy: 0.8750\n",
            "Epoch 9/10\n",
            "16/16 [==============================] - 168s 10s/step - loss: 0.2602 - accuracy: 0.8916\n",
            "Epoch 10/10\n",
            "16/16 [==============================] - 166s 10s/step - loss: 0.2777 - accuracy: 0.8906\n"
          ]
        }
      ],
      "source": [
        "count = 0\n",
        "while count < 10:\n",
        "  print(\"Step: \", count)\n",
        "  fit_history = model.fit_generator(\n",
        "    train_generator,\n",
        "    steps_per_epoch=16,\n",
        "    epochs=10,\n",
        "    #validation_data=validation_generator,\n",
        "    #validation_steps=14,\n",
        "  )\n",
        "  count += 1"
      ]
    },
    {
      "cell_type": "code",
      "source": [
        "test_data_generator = data_generator.flow_from_directory(\n",
        "    '/content/drive/MyDrive/validation-data',\n",
        "    target_size=(image_resize, image_resize),\n",
        "    batch_size=batch_size_validation,\n",
        "    shuffle = 'False',\n",
        "    class_mode='categorical'\n",
        ")"
      ],
      "metadata": {
        "colab": {
          "base_uri": "https://localhost:8080/"
        },
        "id": "gJPC5keXw-MX",
        "outputId": "d1fea136-f16e-4bd9-932f-8809385a7987"
      },
      "execution_count": 34,
      "outputs": [
        {
          "output_type": "stream",
          "name": "stdout",
          "text": [
            "Found 4546 images belonging to 60 classes.\n"
          ]
        }
      ]
    },
    {
      "cell_type": "code",
      "source": [
        "fit_history.history.get('accuracy')[-1]"
      ],
      "metadata": {
        "colab": {
          "base_uri": "https://localhost:8080/"
        },
        "id": "AUi9bBzwyUBv",
        "outputId": "a44f76ad-25e4-4fd7-f8d3-4b2333e7db4b"
      },
      "execution_count": 35,
      "outputs": [
        {
          "output_type": "execute_result",
          "data": {
            "text/plain": [
              "0.890625"
            ]
          },
          "metadata": {},
          "execution_count": 35
        }
      ]
    },
    {
      "cell_type": "code",
      "source": [
        "training_loss_resnet = fit_history.history['loss'][-1]\n",
        "training_loss_resnet"
      ],
      "metadata": {
        "colab": {
          "base_uri": "https://localhost:8080/"
        },
        "id": "Qy_AqHUB4p15",
        "outputId": "b23a779f-f0b9-44cb-8904-d5edf9fd5194"
      },
      "execution_count": 36,
      "outputs": [
        {
          "output_type": "execute_result",
          "data": {
            "text/plain": [
              "0.2776842713356018"
            ]
          },
          "metadata": {},
          "execution_count": 36
        }
      ]
    },
    {
      "cell_type": "code",
      "source": [
        "predicted_values = model.predict(test_data_generator)"
      ],
      "metadata": {
        "id": "hSynd-Qn5qQW"
      },
      "execution_count": 37,
      "outputs": []
    },
    {
      "cell_type": "code",
      "source": [
        "import numpy as np\n",
        "y_pred_res = np.argmax(predicted_values, axis=1)"
      ],
      "metadata": {
        "id": "PxkwQFS06KuZ"
      },
      "execution_count": 38,
      "outputs": []
    },
    {
      "cell_type": "code",
      "source": [
        "from sklearn.metrics import classification_report, confusion_matrix\n",
        "print('Confusion Matrix')\n",
        "conf_matrix_res = confusion_matrix(test_data_generator.classes, y_pred_res)\n",
        "cm_res = np.array2string(conf_matrix_res)\n",
        "print(conf_matrix_res)"
      ],
      "metadata": {
        "colab": {
          "base_uri": "https://localhost:8080/"
        },
        "id": "ieNMnILb-Bx4",
        "outputId": "0807131a-c42b-44cb-e44d-78e399343584"
      },
      "execution_count": 39,
      "outputs": [
        {
          "output_type": "stream",
          "name": "stdout",
          "text": [
            "Confusion Matrix\n",
            "[[10  1  2 ...  0  0  3]\n",
            " [ 0  0  0 ...  0  0  0]\n",
            " [ 1  0  0 ...  0  0  0]\n",
            " ...\n",
            " [ 1  0  0 ...  0  0  0]\n",
            " [ 2  0  2 ...  0  0  0]\n",
            " [ 0  0  0 ...  0  0  0]]\n"
          ]
        }
      ]
    },
    {
      "cell_type": "code",
      "source": [
        "target_names = []\n",
        "count = 0\n",
        "while count < 61:\n",
        "  target_names.append(str(count))\n",
        "  count += 1\n",
        "\n",
        "print(target_names)"
      ],
      "metadata": {
        "colab": {
          "base_uri": "https://localhost:8080/"
        },
        "id": "2G2gh6s5-tOk",
        "outputId": "6a1cd214-347b-42bb-ebea-459715f5af91"
      },
      "execution_count": 40,
      "outputs": [
        {
          "output_type": "stream",
          "name": "stdout",
          "text": [
            "['0', '1', '2', '3', '4', '5', '6', '7', '8', '9', '10', '11', '12', '13', '14', '15', '16', '17', '18', '19', '20', '21', '22', '23', '24', '25', '26', '27', '28', '29', '30', '31', '32', '33', '34', '35', '36', '37', '38', '39', '40', '41', '42', '43', '44', '45', '46', '47', '48', '49', '50', '51', '52', '53', '54', '55', '56', '57', '58', '59', '60']\n"
          ]
        }
      ]
    },
    {
      "cell_type": "code",
      "source": [
        "print('Classification Report')\n",
        "class_rep_res = classification_report(test_data_generator.classes, y_pred_res, target_names=target_names)\n",
        "\n",
        "print(class_rep_res)"
      ],
      "metadata": {
        "colab": {
          "base_uri": "https://localhost:8080/"
        },
        "id": "sY0qB84E_Qfc",
        "outputId": "507f69b8-a48f-4a53-d53c-1baaea93bd57"
      },
      "execution_count": 41,
      "outputs": [
        {
          "output_type": "stream",
          "name": "stdout",
          "text": [
            "Classification Report\n",
            "              precision    recall  f1-score   support\n",
            "\n",
            "           0       0.06      0.06      0.06       169\n",
            "           1       0.00      0.00      0.00        30\n",
            "           2       0.00      0.00      0.00        27\n",
            "           3       0.00      0.00      0.00        24\n",
            "           4       0.00      0.00      0.00        69\n",
            "           5       0.00      0.00      0.00        51\n",
            "           6       0.00      0.00      0.00        29\n",
            "           7       0.02      0.03      0.02        71\n",
            "           8       0.03      0.03      0.03       116\n",
            "           9       0.00      0.00      0.00        42\n",
            "          10       0.00      0.00      0.00        54\n",
            "          11       0.02      0.02      0.02        66\n",
            "          12       0.00      0.00      0.00        22\n",
            "          13       0.00      0.00      0.00        74\n",
            "          14       0.01      0.02      0.01        59\n",
            "          15       0.00      0.00      0.00         9\n",
            "          16       0.02      0.02      0.02        90\n",
            "          17       0.00      0.00      0.00        52\n",
            "          18       0.06      0.05      0.05       269\n",
            "          19       0.04      0.05      0.04       262\n",
            "          20       0.00      0.00      0.00        36\n",
            "          21       0.02      0.02      0.02       122\n",
            "          22       0.01      0.01      0.01       110\n",
            "          23       0.00      0.00      0.00        61\n",
            "          24       0.04      0.04      0.04       147\n",
            "          25       0.00      0.00      0.00        40\n",
            "          26       0.00      0.00      0.00        54\n",
            "          27       0.05      0.05      0.05       204\n",
            "          28       0.00      0.00      0.00        29\n",
            "          29       0.01      0.01      0.01        73\n",
            "          30       0.00      0.00      0.00        36\n",
            "          31       0.02      0.03      0.03        64\n",
            "          32       0.00      0.00      0.00        35\n",
            "          33       0.00      0.00      0.00        27\n",
            "          34       0.00      0.00      0.00        20\n",
            "          35       0.03      0.04      0.03        83\n",
            "          36       0.04      0.04      0.04       173\n",
            "          37       0.00      0.00      0.00        46\n",
            "          38       0.02      0.02      0.02       138\n",
            "          39       0.00      0.00      0.00         1\n",
            "          40       0.00      0.00      0.00        36\n",
            "          41       0.03      0.02      0.02        63\n",
            "          42       0.00      0.00      0.00        38\n",
            "          43       0.00      0.00      0.00       158\n",
            "          44       0.00      0.00      0.00         6\n",
            "          45       0.00      0.00      0.00        46\n",
            "          46       0.00      0.00      0.00        48\n",
            "          47       0.00      0.00      0.00         4\n",
            "          48       0.00      0.00      0.00         5\n",
            "          49       0.00      0.00      0.00        60\n",
            "          50       0.02      0.01      0.01       115\n",
            "          51       0.02      0.02      0.02        83\n",
            "          52       0.00      0.00      0.00        39\n",
            "          53       0.00      0.00      0.00       202\n",
            "          54       0.09      0.07      0.08       353\n",
            "          55       0.01      0.05      0.02        85\n",
            "          56       0.01      0.03      0.02        37\n",
            "          57       0.00      0.00      0.00        12\n",
            "          58       0.00      0.00      0.00        18\n",
            "          59       0.00      0.00      0.00        54\n",
            "          60       0.00      0.00      0.00         0\n",
            "\n",
            "    accuracy                           0.03      4546\n",
            "   macro avg       0.01      0.01      0.01      4546\n",
            "weighted avg       0.03      0.03      0.03      4546\n",
            "\n"
          ]
        },
        {
          "output_type": "stream",
          "name": "stderr",
          "text": [
            "/usr/local/lib/python3.7/dist-packages/sklearn/metrics/_classification.py:1308: UndefinedMetricWarning: Precision and F-score are ill-defined and being set to 0.0 in labels with no predicted samples. Use `zero_division` parameter to control this behavior.\n",
            "  _warn_prf(average, modifier, msg_start, len(result))\n",
            "/usr/local/lib/python3.7/dist-packages/sklearn/metrics/_classification.py:1308: UndefinedMetricWarning: Recall and F-score are ill-defined and being set to 0.0 in labels with no true samples. Use `zero_division` parameter to control this behavior.\n",
            "  _warn_prf(average, modifier, msg_start, len(result))\n",
            "/usr/local/lib/python3.7/dist-packages/sklearn/metrics/_classification.py:1308: UndefinedMetricWarning: Precision and F-score are ill-defined and being set to 0.0 in labels with no predicted samples. Use `zero_division` parameter to control this behavior.\n",
            "  _warn_prf(average, modifier, msg_start, len(result))\n",
            "/usr/local/lib/python3.7/dist-packages/sklearn/metrics/_classification.py:1308: UndefinedMetricWarning: Recall and F-score are ill-defined and being set to 0.0 in labels with no true samples. Use `zero_division` parameter to control this behavior.\n",
            "  _warn_prf(average, modifier, msg_start, len(result))\n",
            "/usr/local/lib/python3.7/dist-packages/sklearn/metrics/_classification.py:1308: UndefinedMetricWarning: Precision and F-score are ill-defined and being set to 0.0 in labels with no predicted samples. Use `zero_division` parameter to control this behavior.\n",
            "  _warn_prf(average, modifier, msg_start, len(result))\n",
            "/usr/local/lib/python3.7/dist-packages/sklearn/metrics/_classification.py:1308: UndefinedMetricWarning: Recall and F-score are ill-defined and being set to 0.0 in labels with no true samples. Use `zero_division` parameter to control this behavior.\n",
            "  _warn_prf(average, modifier, msg_start, len(result))\n"
          ]
        }
      ]
    },
    {
      "cell_type": "code",
      "source": [
        ""
      ],
      "metadata": {
        "id": "R7tbUzrzAjVN"
      },
      "execution_count": null,
      "outputs": []
    }
  ],
  "metadata": {
    "accelerator": "GPU",
    "colab": {
      "name": "ResNet50.ipynb",
      "provenance": [],
      "collapsed_sections": [],
      "include_colab_link": true
    },
    "kernelspec": {
      "display_name": "Python 3",
      "name": "python3"
    },
    "language_info": {
      "name": "python"
    }
  },
  "nbformat": 4,
  "nbformat_minor": 0
}